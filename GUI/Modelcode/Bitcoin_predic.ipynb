{
 "cells": [
  {
   "cell_type": "code",
   "execution_count": 3,
   "metadata": {
    "id": "FOU131CDBzZS"
   },
   "outputs": [],
   "source": [
    "import requests, pandas as pd,numpy as np, matplotlib.pyplot as plt\n",
    "from sklearn.preprocessing import MinMaxScaler\n",
    "from tensorflow.keras.layers  import Dense, Dropout,LSTM\n",
    "from tensorflow.keras.models import Sequential"
   ]
  },
  {
   "cell_type": "code",
   "execution_count": 4,
   "metadata": {
    "id": "-ABET3MjB2XC"
   },
   "outputs": [],
   "source": [
    "api_key ='3a26916aa35b483d9d4e8abf719b08af'\n",
    "symbol= 'BTC/USD'\n",
    "interval='2min'\n",
    "order='asc'\n",
    "start_date= '2022-08-05 00:00:00'\n",
    "end_date= '2022-09-01 00:00:00'\n",
    "\n",
    "api_url=\"https://api.twelvedata.com/time_series?apikey=3a26916aa35b483d9d4e8abf719b08af&interval=5min&symbol=BTC/USD&start_date=2022-01-01 15:24:00&end_date=2022-08-31 15:24:00\"\n"
   ]
  },
  {
   "cell_type": "code",
   "execution_count": 5,
   "metadata": {},
   "outputs": [
    {
     "name": "stdout",
     "output_type": "stream",
     "text": [
      "Requirement already satisfied: tensorflow in c:\\users\\hp\\anaconda3\\lib\\site-packages (2.9.2)\n",
      "Requirement already satisfied: tensorflow-estimator<2.10.0,>=2.9.0rc0 in c:\\users\\hp\\anaconda3\\lib\\site-packages (from tensorflow) (2.9.0)\n",
      "Requirement already satisfied: google-pasta>=0.1.1 in c:\\users\\hp\\anaconda3\\lib\\site-packages (from tensorflow) (0.2.0)\n",
      "Requirement already satisfied: protobuf<3.20,>=3.9.2 in c:\\users\\hp\\anaconda3\\lib\\site-packages (from tensorflow) (3.19.4)\n",
      "Requirement already satisfied: tensorflow-io-gcs-filesystem>=0.23.1 in c:\\users\\hp\\anaconda3\\lib\\site-packages (from tensorflow) (0.26.0)\n",
      "Requirement already satisfied: wrapt>=1.11.0 in c:\\users\\hp\\anaconda3\\lib\\site-packages (from tensorflow) (1.12.1)\n",
      "Requirement already satisfied: keras<2.10.0,>=2.9.0rc0 in c:\\users\\hp\\anaconda3\\lib\\site-packages (from tensorflow) (2.9.0)\n",
      "Requirement already satisfied: keras-preprocessing>=1.1.1 in c:\\users\\hp\\anaconda3\\lib\\site-packages (from tensorflow) (1.1.2)\n",
      "Requirement already satisfied: setuptools in c:\\users\\hp\\anaconda3\\lib\\site-packages (from tensorflow) (52.0.0.post20210125)\n",
      "Requirement already satisfied: grpcio<2.0,>=1.24.3 in c:\\users\\hp\\anaconda3\\lib\\site-packages (from tensorflow) (1.48.1)\n",
      "Requirement already satisfied: packaging in c:\\users\\hp\\anaconda3\\lib\\site-packages (from tensorflow) (20.9)\n",
      "Requirement already satisfied: opt-einsum>=2.3.2 in c:\\users\\hp\\anaconda3\\lib\\site-packages (from tensorflow) (3.3.0)\n",
      "Requirement already satisfied: typing-extensions>=3.6.6 in c:\\users\\hp\\anaconda3\\lib\\site-packages (from tensorflow) (3.7.4.3)\n",
      "Requirement already satisfied: flatbuffers<2,>=1.12 in c:\\users\\hp\\anaconda3\\lib\\site-packages (from tensorflow) (1.12)\n",
      "Requirement already satisfied: libclang>=13.0.0 in c:\\users\\hp\\anaconda3\\lib\\site-packages (from tensorflow) (14.0.6)\n",
      "Requirement already satisfied: termcolor>=1.1.0 in c:\\users\\hp\\anaconda3\\lib\\site-packages (from tensorflow) (1.1.0)\n",
      "Requirement already satisfied: astunparse>=1.6.0 in c:\\users\\hp\\anaconda3\\lib\\site-packages (from tensorflow) (1.6.3)\n",
      "Requirement already satisfied: numpy>=1.20 in c:\\users\\hp\\anaconda3\\lib\\site-packages (from tensorflow) (1.20.1)\n",
      "Requirement already satisfied: tensorboard<2.10,>=2.9 in c:\\users\\hp\\anaconda3\\lib\\site-packages (from tensorflow) (2.9.1)\n",
      "Requirement already satisfied: six>=1.12.0 in c:\\users\\hp\\anaconda3\\lib\\site-packages (from tensorflow) (1.15.0)\n",
      "Requirement already satisfied: absl-py>=1.0.0 in c:\\users\\hp\\anaconda3\\lib\\site-packages (from tensorflow) (1.0.0)\n",
      "Requirement already satisfied: gast<=0.4.0,>=0.2.1 in c:\\users\\hp\\anaconda3\\lib\\site-packages (from tensorflow) (0.4.0)\n",
      "Requirement already satisfied: h5py>=2.9.0 in c:\\users\\hp\\anaconda3\\lib\\site-packages (from tensorflow) (2.10.0)\n",
      "Requirement already satisfied: wheel<1.0,>=0.23.0 in c:\\users\\hp\\anaconda3\\lib\\site-packages (from astunparse>=1.6.0->tensorflow) (0.36.2)\n",
      "Requirement already satisfied: google-auth-oauthlib<0.5,>=0.4.1 in c:\\users\\hp\\anaconda3\\lib\\site-packages (from tensorboard<2.10,>=2.9->tensorflow) (0.4.6)\n",
      "Requirement already satisfied: tensorboard-plugin-wit>=1.6.0 in c:\\users\\hp\\anaconda3\\lib\\site-packages (from tensorboard<2.10,>=2.9->tensorflow) (1.8.1)\n",
      "Requirement already satisfied: tensorboard-data-server<0.7.0,>=0.6.0 in c:\\users\\hp\\anaconda3\\lib\\site-packages (from tensorboard<2.10,>=2.9->tensorflow) (0.6.1)\n",
      "Requirement already satisfied: werkzeug>=1.0.1 in c:\\users\\hp\\anaconda3\\lib\\site-packages (from tensorboard<2.10,>=2.9->tensorflow) (1.0.1)\n",
      "Requirement already satisfied: markdown>=2.6.8 in c:\\users\\hp\\anaconda3\\lib\\site-packages (from tensorboard<2.10,>=2.9->tensorflow) (3.4.1)\n",
      "Requirement already satisfied: google-auth<3,>=1.6.3 in c:\\users\\hp\\anaconda3\\lib\\site-packages (from tensorboard<2.10,>=2.9->tensorflow) (2.11.0)\n",
      "Requirement already satisfied: requests<3,>=2.21.0 in c:\\users\\hp\\anaconda3\\lib\\site-packages (from tensorboard<2.10,>=2.9->tensorflow) (2.25.1)\n",
      "Requirement already satisfied: rsa<5,>=3.1.4 in c:\\users\\hp\\anaconda3\\lib\\site-packages (from google-auth<3,>=1.6.3->tensorboard<2.10,>=2.9->tensorflow) (4.9)\n",
      "Requirement already satisfied: pyasn1-modules>=0.2.1 in c:\\users\\hp\\anaconda3\\lib\\site-packages (from google-auth<3,>=1.6.3->tensorboard<2.10,>=2.9->tensorflow) (0.2.8)\n",
      "Requirement already satisfied: cachetools<6.0,>=2.0.0 in c:\\users\\hp\\anaconda3\\lib\\site-packages (from google-auth<3,>=1.6.3->tensorboard<2.10,>=2.9->tensorflow) (5.2.0)\n",
      "Requirement already satisfied: requests-oauthlib>=0.7.0 in c:\\users\\hp\\anaconda3\\lib\\site-packages (from google-auth-oauthlib<0.5,>=0.4.1->tensorboard<2.10,>=2.9->tensorflow) (1.3.1)\n",
      "Requirement already satisfied: importlib-metadata>=4.4 in c:\\users\\hp\\anaconda3\\lib\\site-packages (from markdown>=2.6.8->tensorboard<2.10,>=2.9->tensorflow) (4.12.0)\n",
      "Requirement already satisfied: zipp>=0.5 in c:\\users\\hp\\anaconda3\\lib\\site-packages (from importlib-metadata>=4.4->markdown>=2.6.8->tensorboard<2.10,>=2.9->tensorflow) (3.4.1)\n",
      "Requirement already satisfied: pyasn1<0.5.0,>=0.4.6 in c:\\users\\hp\\anaconda3\\lib\\site-packages (from pyasn1-modules>=0.2.1->google-auth<3,>=1.6.3->tensorboard<2.10,>=2.9->tensorflow) (0.4.8)\n",
      "Requirement already satisfied: idna<3,>=2.5 in c:\\users\\hp\\anaconda3\\lib\\site-packages (from requests<3,>=2.21.0->tensorboard<2.10,>=2.9->tensorflow) (2.10)\n",
      "Requirement already satisfied: urllib3<1.27,>=1.21.1 in c:\\users\\hp\\anaconda3\\lib\\site-packages (from requests<3,>=2.21.0->tensorboard<2.10,>=2.9->tensorflow) (1.26.4)\n",
      "Requirement already satisfied: chardet<5,>=3.0.2 in c:\\users\\hp\\anaconda3\\lib\\site-packages (from requests<3,>=2.21.0->tensorboard<2.10,>=2.9->tensorflow) (4.0.0)\n",
      "Requirement already satisfied: certifi>=2017.4.17 in c:\\users\\hp\\anaconda3\\lib\\site-packages (from requests<3,>=2.21.0->tensorboard<2.10,>=2.9->tensorflow) (2020.12.5)\n",
      "Requirement already satisfied: oauthlib>=3.0.0 in c:\\users\\hp\\anaconda3\\lib\\site-packages (from requests-oauthlib>=0.7.0->google-auth-oauthlib<0.5,>=0.4.1->tensorboard<2.10,>=2.9->tensorflow) (3.2.0)\n",
      "Requirement already satisfied: pyparsing>=2.0.2 in c:\\users\\hp\\anaconda3\\lib\\site-packages (from packaging->tensorflow) (2.4.7)\n",
      "Note: you may need to restart the kernel to use updated packages.\n"
     ]
    }
   ],
   "source": [
    "pip install tensorflow"
   ]
  },
  {
   "cell_type": "code",
   "execution_count": 6,
   "metadata": {
    "colab": {
     "base_uri": "https://localhost:8080/",
     "height": 424
    },
    "id": "C-2iniM4_B3N",
    "outputId": "f812df87-356b-4311-a90e-11d8f33ff7c1"
   },
   "outputs": [
    {
     "data": {
      "text/html": [
       "<div>\n",
       "<style scoped>\n",
       "    .dataframe tbody tr th:only-of-type {\n",
       "        vertical-align: middle;\n",
       "    }\n",
       "\n",
       "    .dataframe tbody tr th {\n",
       "        vertical-align: top;\n",
       "    }\n",
       "\n",
       "    .dataframe thead th {\n",
       "        text-align: right;\n",
       "    }\n",
       "</style>\n",
       "<table border=\"1\" class=\"dataframe\">\n",
       "  <thead>\n",
       "    <tr style=\"text-align: right;\">\n",
       "      <th></th>\n",
       "      <th>datetime</th>\n",
       "      <th>open</th>\n",
       "      <th>high</th>\n",
       "      <th>low</th>\n",
       "      <th>close</th>\n",
       "    </tr>\n",
       "  </thead>\n",
       "  <tbody>\n",
       "    <tr>\n",
       "      <th>0</th>\n",
       "      <td>2022-08-31 15:20:00</td>\n",
       "      <td>20044.03906</td>\n",
       "      <td>20059.72070</td>\n",
       "      <td>19998.65039</td>\n",
       "      <td>20015.39062</td>\n",
       "    </tr>\n",
       "    <tr>\n",
       "      <th>1</th>\n",
       "      <td>2022-08-31 15:15:00</td>\n",
       "      <td>19967.52930</td>\n",
       "      <td>20008.08008</td>\n",
       "      <td>19951.57031</td>\n",
       "      <td>19988.15039</td>\n",
       "    </tr>\n",
       "    <tr>\n",
       "      <th>2</th>\n",
       "      <td>2022-08-31 15:10:00</td>\n",
       "      <td>19952.66992</td>\n",
       "      <td>19977.91992</td>\n",
       "      <td>19910.05078</td>\n",
       "      <td>19948.80078</td>\n",
       "    </tr>\n",
       "    <tr>\n",
       "      <th>3</th>\n",
       "      <td>2022-08-31 15:05:00</td>\n",
       "      <td>19975.40039</td>\n",
       "      <td>19995.00000</td>\n",
       "      <td>19892.49023</td>\n",
       "      <td>19932.48047</td>\n",
       "    </tr>\n",
       "    <tr>\n",
       "      <th>4</th>\n",
       "      <td>2022-08-31 15:00:00</td>\n",
       "      <td>20113.26953</td>\n",
       "      <td>20113.26953</td>\n",
       "      <td>19990.08008</td>\n",
       "      <td>19990.08008</td>\n",
       "    </tr>\n",
       "    <tr>\n",
       "      <th>...</th>\n",
       "      <td>...</td>\n",
       "      <td>...</td>\n",
       "      <td>...</td>\n",
       "      <td>...</td>\n",
       "      <td>...</td>\n",
       "    </tr>\n",
       "    <tr>\n",
       "      <th>4995</th>\n",
       "      <td>2022-08-14 07:05:00</td>\n",
       "      <td>24791.80078</td>\n",
       "      <td>24800.03906</td>\n",
       "      <td>24735.71094</td>\n",
       "      <td>24735.71094</td>\n",
       "    </tr>\n",
       "    <tr>\n",
       "      <th>4996</th>\n",
       "      <td>2022-08-14 07:00:00</td>\n",
       "      <td>24676.36914</td>\n",
       "      <td>24800.03906</td>\n",
       "      <td>24671.59961</td>\n",
       "      <td>24800.03906</td>\n",
       "    </tr>\n",
       "    <tr>\n",
       "      <th>4997</th>\n",
       "      <td>2022-08-14 06:55:00</td>\n",
       "      <td>24644.91992</td>\n",
       "      <td>24678.60938</td>\n",
       "      <td>24644.91992</td>\n",
       "      <td>24671.59961</td>\n",
       "    </tr>\n",
       "    <tr>\n",
       "      <th>4998</th>\n",
       "      <td>2022-08-14 06:50:00</td>\n",
       "      <td>24635.33008</td>\n",
       "      <td>24660.91016</td>\n",
       "      <td>24635.33008</td>\n",
       "      <td>24652.24023</td>\n",
       "    </tr>\n",
       "    <tr>\n",
       "      <th>4999</th>\n",
       "      <td>2022-08-14 06:45:00</td>\n",
       "      <td>24638.00000</td>\n",
       "      <td>24638.51953</td>\n",
       "      <td>24626.77930</td>\n",
       "      <td>24637.52930</td>\n",
       "    </tr>\n",
       "  </tbody>\n",
       "</table>\n",
       "<p>5000 rows × 5 columns</p>\n",
       "</div>"
      ],
      "text/plain": [
       "                 datetime         open         high          low        close\n",
       "0     2022-08-31 15:20:00  20044.03906  20059.72070  19998.65039  20015.39062\n",
       "1     2022-08-31 15:15:00  19967.52930  20008.08008  19951.57031  19988.15039\n",
       "2     2022-08-31 15:10:00  19952.66992  19977.91992  19910.05078  19948.80078\n",
       "3     2022-08-31 15:05:00  19975.40039  19995.00000  19892.49023  19932.48047\n",
       "4     2022-08-31 15:00:00  20113.26953  20113.26953  19990.08008  19990.08008\n",
       "...                   ...          ...          ...          ...          ...\n",
       "4995  2022-08-14 07:05:00  24791.80078  24800.03906  24735.71094  24735.71094\n",
       "4996  2022-08-14 07:00:00  24676.36914  24800.03906  24671.59961  24800.03906\n",
       "4997  2022-08-14 06:55:00  24644.91992  24678.60938  24644.91992  24671.59961\n",
       "4998  2022-08-14 06:50:00  24635.33008  24660.91016  24635.33008  24652.24023\n",
       "4999  2022-08-14 06:45:00  24638.00000  24638.51953  24626.77930  24637.52930\n",
       "\n",
       "[5000 rows x 5 columns]"
      ]
     },
     "execution_count": 6,
     "metadata": {},
     "output_type": "execute_result"
    }
   ],
   "source": [
    "data=requests.get(api_url).json()\n",
    "data_final=pd.DataFrame(data['values'])\n",
    "data_final\n"
   ]
  },
  {
   "cell_type": "code",
   "execution_count": 7,
   "metadata": {
    "colab": {
     "base_uri": "https://localhost:8080/"
    },
    "id": "eyO7eRpk_Q7e",
    "outputId": "ad4aff4d-dad7-43dc-fc05-5cdc2ca936de"
   },
   "outputs": [
    {
     "data": {
      "text/plain": [
       "dict_keys(['meta', 'values', 'status'])"
      ]
     },
     "execution_count": 7,
     "metadata": {},
     "output_type": "execute_result"
    }
   ],
   "source": [
    "data.keys()"
   ]
  },
  {
   "cell_type": "code",
   "execution_count": 8,
   "metadata": {
    "id": "JsYTAI0RBGNc"
   },
   "outputs": [],
   "source": [
    "scaler=MinMaxScaler(feature_range=(0,1))\n",
    "scaled_data= scaler.fit_transform(data_final['close'].values.reshape(-1,1))"
   ]
  },
  {
   "cell_type": "code",
   "execution_count": 9,
   "metadata": {
    "colab": {
     "base_uri": "https://localhost:8080/"
    },
    "id": "xRnaM5E2C7d3",
    "outputId": "a1275370-9870-470c-9707-f2be01ab3644"
   },
   "outputs": [
    {
     "data": {
      "text/plain": [
       "(5000, 1)"
      ]
     },
     "execution_count": 9,
     "metadata": {},
     "output_type": "execute_result"
    }
   ],
   "source": [
    "data_final['close'].values.reshape(-1,1).shape"
   ]
  },
  {
   "cell_type": "code",
   "execution_count": 10,
   "metadata": {
    "colab": {
     "base_uri": "https://localhost:8080/"
    },
    "id": "OFZz37vWoHsv",
    "outputId": "a6a1f1a0-887a-4141-fe7c-08645cf01c2f"
   },
   "outputs": [
    {
     "data": {
      "text/plain": [
       "array([[0.08506354],\n",
       "       [0.08017133],\n",
       "       [0.07310433],\n",
       "       ...,\n",
       "       [0.92129595],\n",
       "       [0.9178191 ],\n",
       "       [0.91517709]])"
      ]
     },
     "execution_count": 10,
     "metadata": {},
     "output_type": "execute_result"
    }
   ],
   "source": [
    "scaled_data"
   ]
  },
  {
   "cell_type": "code",
   "execution_count": 11,
   "metadata": {
    "id": "xz6pYpcioRGW"
   },
   "outputs": [],
   "source": [
    "time_interval_train=24\n",
    "prediction_interval=12\n",
    "x_train=[]\n",
    "y_train=[]"
   ]
  },
  {
   "cell_type": "code",
   "execution_count": 12,
   "metadata": {
    "colab": {
     "base_uri": "https://localhost:8080/"
    },
    "id": "JntBFaIEo--9",
    "outputId": "61224a4d-b8c3-4ebd-f7ec-281b122273dc"
   },
   "outputs": [
    {
     "data": {
      "text/plain": [
       "(4964, 24)"
      ]
     },
     "execution_count": 12,
     "metadata": {},
     "output_type": "execute_result"
    }
   ],
   "source": [
    "for i in range(time_interval_train,len(scaled_data) - prediction_interval):\n",
    "  x_train.append(scaled_data[i-time_interval_train:i,0])\n",
    "  y_train.append(scaled_data[i+prediction_interval,0])\n",
    "x_train= np.array(x_train)\n",
    "y_train= np.array(y_train)\n",
    "x_train.shape"
   ]
  },
  {
   "cell_type": "code",
   "execution_count": 13,
   "metadata": {
    "id": "pq6zZRTvp9pm"
   },
   "outputs": [
    {
     "data": {
      "text/plain": [
       "(4964, 24, 1)"
      ]
     },
     "execution_count": 13,
     "metadata": {},
     "output_type": "execute_result"
    }
   ],
   "source": [
    "x_train=np.reshape(x_train,(x_train.shape[0],x_train.shape[1],1))\n",
    "x_train.shape\n"
   ]
  },
  {
   "cell_type": "code",
   "execution_count": 14,
   "metadata": {
    "id": "m_tv-FN5qNSQ"
   },
   "outputs": [],
   "source": [
    "model = Sequential()\n",
    "model.add(LSTM(128, return_sequences=True, input_shape=(x_train.shape[1],1), activation='relu'))\n",
    "model.add(Dropout(0.4))\n",
    "model.add(LSTM(64, return_sequences= True, activation=\"relu\"))\n",
    "model.add(Dropout(0.3))\n",
    "model.add(LSTM(32, activation='relu'))\n",
    "model.add(Dropout(0.2))\n",
    "model.add(Dense(1, activation= 'sigmoid'))"
   ]
  },
  {
   "cell_type": "code",
   "execution_count": 15,
   "metadata": {
    "id": "L_zBUj0UqRAW"
   },
   "outputs": [],
   "source": [
    "model.compile(loss ='mean_squared_error', optimizer= \"adam\", metrics=['accuracy'])"
   ]
  },
  {
   "cell_type": "code",
   "execution_count": 17,
   "metadata": {
    "colab": {
     "base_uri": "https://localhost:8080/"
    },
    "id": "fVKBGbkPsr8L",
    "outputId": "24990e62-4769-4b0e-f619-8ae028c7cbb9"
   },
   "outputs": [
    {
     "name": "stdout",
     "output_type": "stream",
     "text": [
      "Epoch 1/10\n",
      "96/96 [==============================] - 9s 96ms/step - loss: 0.0017 - accuracy: 4.0290e-04\n",
      "Epoch 2/10\n",
      "96/96 [==============================] - 10s 109ms/step - loss: 0.0016 - accuracy: 4.0290e-04\n",
      "Epoch 3/10\n",
      "96/96 [==============================] - 11s 115ms/step - loss: 0.0016 - accuracy: 4.0290e-04\n",
      "Epoch 4/10\n",
      "96/96 [==============================] - 12s 122ms/step - loss: 0.0015 - accuracy: 4.0290e-04\n",
      "Epoch 5/10\n",
      "96/96 [==============================] - 12s 120ms/step - loss: 0.0015 - accuracy: 4.0290e-04\n",
      "Epoch 6/10\n",
      "96/96 [==============================] - 11s 120ms/step - loss: 0.0015 - accuracy: 4.0290e-04\n",
      "Epoch 7/10\n",
      "96/96 [==============================] - 15s 159ms/step - loss: 0.0015 - accuracy: 4.0290e-04\n",
      "Epoch 8/10\n",
      "96/96 [==============================] - 12s 128ms/step - loss: 0.0016 - accuracy: 4.0290e-04\n",
      "Epoch 9/10\n",
      "96/96 [==============================] - 11s 112ms/step - loss: 0.0015 - accuracy: 4.0290e-04\n",
      "Epoch 10/10\n",
      "96/96 [==============================] - 11s 116ms/step - loss: 0.0015 - accuracy: 4.0290e-04\n"
     ]
    },
    {
     "data": {
      "text/plain": [
       "<keras.callbacks.History at 0x20072e25f10>"
      ]
     },
     "execution_count": 17,
     "metadata": {},
     "output_type": "execute_result"
    }
   ],
   "source": [
    "model.fit(x_train,y_train, epochs=10,batch_size=52)"
   ]
  },
  {
   "cell_type": "code",
   "execution_count": null,
   "metadata": {},
   "outputs": [],
   "source": [
    "model.save(\"prediction.h5\")"
   ]
  },
  {
   "cell_type": "code",
   "execution_count": null,
   "metadata": {},
   "outputs": [],
   "source": [
    "from tensorflow.keras.models import load_model\n",
    "load=load_model('prediction.h5')"
   ]
  },
  {
   "cell_type": "code",
   "execution_count": 18,
   "metadata": {
    "colab": {
     "base_uri": "https://localhost:8080/",
     "height": 424
    },
    "id": "OxB5jYhIs7a9",
    "outputId": "373a19de-7b43-4d71-916b-ebd06e574340"
   },
   "outputs": [
    {
     "data": {
      "text/html": [
       "<div>\n",
       "<style scoped>\n",
       "    .dataframe tbody tr th:only-of-type {\n",
       "        vertical-align: middle;\n",
       "    }\n",
       "\n",
       "    .dataframe tbody tr th {\n",
       "        vertical-align: top;\n",
       "    }\n",
       "\n",
       "    .dataframe thead th {\n",
       "        text-align: right;\n",
       "    }\n",
       "</style>\n",
       "<table border=\"1\" class=\"dataframe\">\n",
       "  <thead>\n",
       "    <tr style=\"text-align: right;\">\n",
       "      <th></th>\n",
       "      <th>datetime</th>\n",
       "      <th>open</th>\n",
       "      <th>high</th>\n",
       "      <th>low</th>\n",
       "      <th>close</th>\n",
       "    </tr>\n",
       "  </thead>\n",
       "  <tbody>\n",
       "    <tr>\n",
       "      <th>0</th>\n",
       "      <td>2022-09-10 16:50:00</td>\n",
       "      <td>21332.34961</td>\n",
       "      <td>21386.64062</td>\n",
       "      <td>21326.10938</td>\n",
       "      <td>21386.64062</td>\n",
       "    </tr>\n",
       "    <tr>\n",
       "      <th>1</th>\n",
       "      <td>2022-09-10 16:45:00</td>\n",
       "      <td>21324.61914</td>\n",
       "      <td>21346.55078</td>\n",
       "      <td>21313.98047</td>\n",
       "      <td>21332.85938</td>\n",
       "    </tr>\n",
       "    <tr>\n",
       "      <th>2</th>\n",
       "      <td>2022-09-10 16:40:00</td>\n",
       "      <td>21240.16992</td>\n",
       "      <td>21329.72070</td>\n",
       "      <td>21233.51953</td>\n",
       "      <td>21329.72070</td>\n",
       "    </tr>\n",
       "    <tr>\n",
       "      <th>3</th>\n",
       "      <td>2022-09-10 16:35:00</td>\n",
       "      <td>21220.75000</td>\n",
       "      <td>21247.61914</td>\n",
       "      <td>21220.75000</td>\n",
       "      <td>21237.53906</td>\n",
       "    </tr>\n",
       "    <tr>\n",
       "      <th>4</th>\n",
       "      <td>2022-09-10 16:30:00</td>\n",
       "      <td>21195.74023</td>\n",
       "      <td>21240.30078</td>\n",
       "      <td>21195.74023</td>\n",
       "      <td>21221.91992</td>\n",
       "    </tr>\n",
       "    <tr>\n",
       "      <th>...</th>\n",
       "      <td>...</td>\n",
       "      <td>...</td>\n",
       "      <td>...</td>\n",
       "      <td>...</td>\n",
       "      <td>...</td>\n",
       "    </tr>\n",
       "    <tr>\n",
       "      <th>198</th>\n",
       "      <td>2022-09-10 00:20:00</td>\n",
       "      <td>21305.22070</td>\n",
       "      <td>21347.08008</td>\n",
       "      <td>21302.00000</td>\n",
       "      <td>21302.00000</td>\n",
       "    </tr>\n",
       "    <tr>\n",
       "      <th>199</th>\n",
       "      <td>2022-09-10 00:15:00</td>\n",
       "      <td>21270.30078</td>\n",
       "      <td>21325.26953</td>\n",
       "      <td>21267.76953</td>\n",
       "      <td>21315.43945</td>\n",
       "    </tr>\n",
       "    <tr>\n",
       "      <th>200</th>\n",
       "      <td>2022-09-10 00:10:00</td>\n",
       "      <td>21299.48047</td>\n",
       "      <td>21309.25977</td>\n",
       "      <td>21269.75000</td>\n",
       "      <td>21271.55078</td>\n",
       "    </tr>\n",
       "    <tr>\n",
       "      <th>201</th>\n",
       "      <td>2022-09-10 00:05:00</td>\n",
       "      <td>21337.97070</td>\n",
       "      <td>21342.14062</td>\n",
       "      <td>21297.13086</td>\n",
       "      <td>21297.13086</td>\n",
       "    </tr>\n",
       "    <tr>\n",
       "      <th>202</th>\n",
       "      <td>2022-09-10 00:00:00</td>\n",
       "      <td>21370.01953</td>\n",
       "      <td>21396.06055</td>\n",
       "      <td>21308.23047</td>\n",
       "      <td>21337.10938</td>\n",
       "    </tr>\n",
       "  </tbody>\n",
       "</table>\n",
       "<p>203 rows × 5 columns</p>\n",
       "</div>"
      ],
      "text/plain": [
       "                datetime         open         high          low        close\n",
       "0    2022-09-10 16:50:00  21332.34961  21386.64062  21326.10938  21386.64062\n",
       "1    2022-09-10 16:45:00  21324.61914  21346.55078  21313.98047  21332.85938\n",
       "2    2022-09-10 16:40:00  21240.16992  21329.72070  21233.51953  21329.72070\n",
       "3    2022-09-10 16:35:00  21220.75000  21247.61914  21220.75000  21237.53906\n",
       "4    2022-09-10 16:30:00  21195.74023  21240.30078  21195.74023  21221.91992\n",
       "..                   ...          ...          ...          ...          ...\n",
       "198  2022-09-10 00:20:00  21305.22070  21347.08008  21302.00000  21302.00000\n",
       "199  2022-09-10 00:15:00  21270.30078  21325.26953  21267.76953  21315.43945\n",
       "200  2022-09-10 00:10:00  21299.48047  21309.25977  21269.75000  21271.55078\n",
       "201  2022-09-10 00:05:00  21337.97070  21342.14062  21297.13086  21297.13086\n",
       "202  2022-09-10 00:00:00  21370.01953  21396.06055  21308.23047  21337.10938\n",
       "\n",
       "[203 rows x 5 columns]"
      ]
     },
     "execution_count": 18,
     "metadata": {},
     "output_type": "execute_result"
    }
   ],
   "source": [
    "test_start='2022-09-10 00:00:00'\n",
    "test_end='2022-09-11 00:00:00'\n",
    "interval= '5min'\n",
    "test_api_url=f\"https://api.twelvedata.com/time_series?apikey={api_key}&interval={interval}&symbol=BTC/USD&start_date={test_start}&end_date={test_end}\"\n",
    "test_data= requests.get(test_api_url).json()\n",
    "test_data_final=pd.DataFrame(test_data['values'])\n",
    "test_data_final"
   ]
  },
  {
   "cell_type": "code",
   "execution_count": null,
   "metadata": {
    "id": "U6jAeHOuthfs"
   },
   "outputs": [],
   "source": []
  },
  {
   "cell_type": "code",
   "execution_count": 19,
   "metadata": {
    "id": "S-N4KhgOwV8B"
   },
   "outputs": [],
   "source": [
    "bitcoin_prices=pd.to_numeric(test_data_final['close'], errors ='coerce').values\n",
    "test_inputs= test_data_final['close'].values\n",
    "test_inputs= test_inputs.reshape(-1,1)\n",
    "model_inputs= scaler.fit_transform(test_inputs)"
   ]
  },
  {
   "cell_type": "code",
   "execution_count": null,
   "metadata": {
    "colab": {
     "base_uri": "https://localhost:8080/"
    },
    "id": "N0TBlpVHwvUA",
    "outputId": "75d7ab46-adec-4f1f-8b5c-7e37055d8506"
   },
   "outputs": [
    {
     "data": {
      "text/plain": [
       "(2095, 1)"
      ]
     },
     "execution_count": 39,
     "metadata": {},
     "output_type": "execute_result"
    }
   ],
   "source": [
    "model_inputs.shape\n"
   ]
  },
  {
   "cell_type": "code",
   "execution_count": null,
   "metadata": {
    "colab": {
     "base_uri": "https://localhost:8080/"
    },
    "id": "r5q3ha2yw6Y0",
    "outputId": "a68ff903-70df-4d33-cb69-db4ccb62da27"
   },
   "outputs": [
    {
     "data": {
      "text/plain": [
       "(2095, 1)"
      ]
     },
     "execution_count": 40,
     "metadata": {},
     "output_type": "execute_result"
    }
   ],
   "source": [
    "model_inputs.shape"
   ]
  },
  {
   "cell_type": "code",
   "execution_count": 20,
   "metadata": {
    "colab": {
     "base_uri": "https://localhost:8080/"
    },
    "id": "G32_7EGGw9PV",
    "outputId": "b906dd22-89e2-493d-b140-2a74a94ac4e0"
   },
   "outputs": [
    {
     "name": "stdout",
     "output_type": "stream",
     "text": [
      "(179, 24)\n",
      "[[0.45446407 0.33820289 0.33141787 ... 0.16323264 0.13975748 0.16094002]\n",
      " [0.33820289 0.33141787 0.13214493 ... 0.13975748 0.16094002 0.18400564]\n",
      " [0.33141787 0.13214493 0.09838037 ... 0.16094002 0.18400564 0.1966763 ]\n",
      " ...\n",
      " [0.17966104 0.202144   0.22782736 ... 0.16457106 0.27149286 0.30054549]\n",
      " [0.202144   0.22782736 0.25618755 ... 0.27149286 0.30054549 0.2056695 ]\n",
      " [0.22782736 0.25618755 0.21500468 ... 0.30054549 0.2056695  0.26096704]]\n"
     ]
    }
   ],
   "source": [
    "x_test=[]\n",
    "for x in range(time_interval_train, len(model_inputs)):\n",
    "  x_test.append(model_inputs[x - time_interval_train:x,0])\n",
    "\n",
    "\n",
    "x_test= np.array(x_test)\n",
    "print(x_test.shape)\n",
    "x_test= np.reshape(x_test,(x_test.shape[0],x_test.shape[1]))\n",
    "print(x_test)"
   ]
  },
  {
   "cell_type": "code",
   "execution_count": null,
   "metadata": {
    "colab": {
     "base_uri": "https://localhost:8080/"
    },
    "id": "yODjeaZcxPL5",
    "outputId": "b88e34e8-fc6d-408e-919a-3d33c6f21b2e"
   },
   "outputs": [
    {
     "data": {
      "text/plain": [
       "(2071, 24)"
      ]
     },
     "execution_count": 42,
     "metadata": {},
     "output_type": "execute_result"
    }
   ],
   "source": [
    "x_test.shape"
   ]
  },
  {
   "cell_type": "code",
   "execution_count": 21,
   "metadata": {
    "id": "MbHjX9tVxp4X"
   },
   "outputs": [
    {
     "name": "stdout",
     "output_type": "stream",
     "text": [
      "6/6 [==============================] - 2s 22ms/step\n"
     ]
    }
   ],
   "source": [
    "prediction_prices=model.predict(x_test)\n",
    "#predication_prices= scaler.inverse_transform(prediction_prices)\n"
   ]
  },
  {
   "cell_type": "code",
   "execution_count": 22,
   "metadata": {
    "id": "0Va19yWexzOr"
   },
   "outputs": [],
   "source": [
    "prediction_prices\n",
    "prediction_prices = np.reshape(prediction_prices,(prediction_prices.shape[0],1))"
   ]
  },
  {
   "cell_type": "code",
   "execution_count": 23,
   "metadata": {
    "colab": {
     "base_uri": "https://localhost:8080/"
    },
    "id": "l6SLMqzxx1gp",
    "outputId": "5564aaf4-e4a5-46c1-d179-235a72184457"
   },
   "outputs": [
    {
     "data": {
      "text/plain": [
       "array([[0.13357806],\n",
       "       [0.1264712 ],\n",
       "       [0.12531114],\n",
       "       [0.12570986],\n",
       "       [0.13044713],\n",
       "       [0.13567118],\n",
       "       [0.14182569],\n",
       "       [0.148522  ],\n",
       "       [0.15389131],\n",
       "       [0.15925895],\n",
       "       [0.16316482],\n",
       "       [0.16570121],\n",
       "       [0.16594158],\n",
       "       [0.16420692],\n",
       "       [0.16172588],\n",
       "       [0.15592586],\n",
       "       [0.14979358],\n",
       "       [0.13894168],\n",
       "       [0.13070776],\n",
       "       [0.12314025],\n",
       "       [0.12226827],\n",
       "       [0.11863501],\n",
       "       [0.11806745],\n",
       "       [0.12064565],\n",
       "       [0.12423041],\n",
       "       [0.12922329],\n",
       "       [0.13641001],\n",
       "       [0.14567661],\n",
       "       [0.15556672],\n",
       "       [0.16642348],\n",
       "       [0.17749645],\n",
       "       [0.18881626],\n",
       "       [0.19934574],\n",
       "       [0.21076342],\n",
       "       [0.22060923],\n",
       "       [0.23183487],\n",
       "       [0.24393897],\n",
       "       [0.2551131 ],\n",
       "       [0.26284534],\n",
       "       [0.27011767],\n",
       "       [0.27386168],\n",
       "       [0.27623498],\n",
       "       [0.27864304],\n",
       "       [0.28297693],\n",
       "       [0.28714088],\n",
       "       [0.29172963],\n",
       "       [0.2966753 ],\n",
       "       [0.30193275],\n",
       "       [0.3070737 ],\n",
       "       [0.31221408],\n",
       "       [0.3173378 ],\n",
       "       [0.32262862],\n",
       "       [0.3277955 ],\n",
       "       [0.3324161 ],\n",
       "       [0.33645952],\n",
       "       [0.34008995],\n",
       "       [0.3414016 ],\n",
       "       [0.34070703],\n",
       "       [0.3390215 ],\n",
       "       [0.33635056],\n",
       "       [0.333495  ],\n",
       "       [0.3306012 ],\n",
       "       [0.32813066],\n",
       "       [0.32621306],\n",
       "       [0.3249466 ],\n",
       "       [0.32425246],\n",
       "       [0.32359466],\n",
       "       [0.32348478],\n",
       "       [0.32444236],\n",
       "       [0.326811  ],\n",
       "       [0.33057833],\n",
       "       [0.33408478],\n",
       "       [0.33762264],\n",
       "       [0.3412209 ],\n",
       "       [0.34434444],\n",
       "       [0.34770253],\n",
       "       [0.35121122],\n",
       "       [0.35561633],\n",
       "       [0.36055577],\n",
       "       [0.36552635],\n",
       "       [0.36976728],\n",
       "       [0.37295493],\n",
       "       [0.37504408],\n",
       "       [0.37614572],\n",
       "       [0.37479207],\n",
       "       [0.3718974 ],\n",
       "       [0.36709264],\n",
       "       [0.36285958],\n",
       "       [0.36077476],\n",
       "       [0.36157274],\n",
       "       [0.36626023],\n",
       "       [0.37561882],\n",
       "       [0.39076212],\n",
       "       [0.41301295],\n",
       "       [0.44175133],\n",
       "       [0.47055677],\n",
       "       [0.49819195],\n",
       "       [0.523569  ],\n",
       "       [0.54658365],\n",
       "       [0.5673692 ],\n",
       "       [0.58655155],\n",
       "       [0.6043607 ],\n",
       "       [0.62091136],\n",
       "       [0.6364527 ],\n",
       "       [0.6511887 ],\n",
       "       [0.6656807 ],\n",
       "       [0.6801339 ],\n",
       "       [0.69472146],\n",
       "       [0.7095294 ],\n",
       "       [0.72426426],\n",
       "       [0.7390315 ],\n",
       "       [0.7515329 ],\n",
       "       [0.76101464],\n",
       "       [0.7702943 ],\n",
       "       [0.7801632 ],\n",
       "       [0.7908557 ],\n",
       "       [0.8021767 ],\n",
       "       [0.8103635 ],\n",
       "       [0.81631327],\n",
       "       [0.8201037 ],\n",
       "       [0.8226537 ],\n",
       "       [0.8244543 ],\n",
       "       [0.82593566],\n",
       "       [0.82242244],\n",
       "       [0.8160458 ],\n",
       "       [0.8071026 ],\n",
       "       [0.79643774],\n",
       "       [0.7841962 ],\n",
       "       [0.76540476],\n",
       "       [0.7424066 ],\n",
       "       [0.7194049 ],\n",
       "       [0.6957454 ],\n",
       "       [0.67201793],\n",
       "       [0.6468511 ],\n",
       "       [0.6219687 ],\n",
       "       [0.59565216],\n",
       "       [0.57321703],\n",
       "       [0.55208814],\n",
       "       [0.533807  ],\n",
       "       [0.51654315],\n",
       "       [0.50026375],\n",
       "       [0.47437024],\n",
       "       [0.42471755],\n",
       "       [0.35783613],\n",
       "       [0.3333147 ],\n",
       "       [0.32568735],\n",
       "       [0.31712106],\n",
       "       [0.31039956],\n",
       "       [0.3044682 ],\n",
       "       [0.29746395],\n",
       "       [0.2900246 ],\n",
       "       [0.28111312],\n",
       "       [0.27211422],\n",
       "       [0.2632957 ],\n",
       "       [0.25512752],\n",
       "       [0.24758767],\n",
       "       [0.24105117],\n",
       "       [0.23577863],\n",
       "       [0.23144493],\n",
       "       [0.22785878],\n",
       "       [0.22587271],\n",
       "       [0.22626278],\n",
       "       [0.2281211 ],\n",
       "       [0.23094206],\n",
       "       [0.23389366],\n",
       "       [0.2369329 ],\n",
       "       [0.24068476],\n",
       "       [0.24324204],\n",
       "       [0.24543683],\n",
       "       [0.24918883],\n",
       "       [0.25443983],\n",
       "       [0.25590146],\n",
       "       [0.25825197],\n",
       "       [0.25880912],\n",
       "       [0.25522736],\n",
       "       [0.25008512],\n",
       "       [0.24442309],\n",
       "       [0.23967697],\n",
       "       [0.23610748]], dtype=float32)"
      ]
     },
     "execution_count": 23,
     "metadata": {},
     "output_type": "execute_result"
    }
   ],
   "source": [
    "\n",
    "prediction_prices"
   ]
  },
  {
   "cell_type": "code",
   "execution_count": 24,
   "metadata": {
    "id": "hiwVjNIs0VcG"
   },
   "outputs": [],
   "source": [
    "prediction_prices= scaler.inverse_transform(prediction_prices)"
   ]
  },
  {
   "cell_type": "code",
   "execution_count": null,
   "metadata": {
    "colab": {
     "base_uri": "https://localhost:8080/"
    },
    "id": "bwV22ZdT0W9g",
    "outputId": "ffcdc70b-7450-48db-c40c-57468082c2df"
   },
   "outputs": [
    {
     "data": {
      "text/plain": [
       "array([[20536.969],\n",
       "       [20525.39 ],\n",
       "       [20512.014],\n",
       "       ...,\n",
       "       [20099.117],\n",
       "       [20102.105],\n",
       "       [20103.459]], dtype=float32)"
      ]
     },
     "execution_count": 47,
     "metadata": {},
     "output_type": "execute_result"
    }
   ],
   "source": [
    "prediction_prices"
   ]
  },
  {
   "cell_type": "code",
   "execution_count": 25,
   "metadata": {
    "colab": {
     "base_uri": "https://localhost:8080/",
     "height": 295
    },
    "id": "iY7fjEmi0ZoR",
    "outputId": "8a5590ce-72bb-4c84-9ab1-240f632a5dc7"
   },
   "outputs": [
    {
     "data": {
      "image/png": "[encoded data removed]",
      "text/plain": [
       "<Figure size 432x288 with 1 Axes>"
      ]
     },
     "metadata": {
      "needs_background": "light"
     },
     "output_type": "display_data"
    }
   ],
   "source": [
    "plt.plot(bitcoin_prices, label=\"bitcoin\")\n",
    "plt.plot(prediction_prices, label='Prediction')\n",
    "plt.title('BitCoin-prediction')\n",
    "plt.xlabel(\"5min interval\")\n",
    "plt.ylabel(\"price\")\n",
    "plt.legend()\n",
    "plt.show()\n"
   ]
  },
  {
   "cell_type": "code",
   "execution_count": null,
   "metadata": {
    "id": "Z9w0pxKR04gh"
   },
   "outputs": [],
   "source": [
    "last_data= model_inputs[len(model_inputs)+1 - time_interval_train:len(model_inputs)+1,0]\n",
    "last_data= np.array(last_data)\n",
    "\n"
   ]
  },
  {
   "cell_type": "code",
   "execution_count": null,
   "metadata": {
    "colab": {
     "base_uri": "https://localhost:8080/"
    },
    "id": "M1vwoaVp8_yo",
    "outputId": "4d79a7a5-0abc-404a-bf63-4c48cc0908c7"
   },
   "outputs": [
    {
     "data": {
      "text/plain": [
       "(1, 23, 1)"
      ]
     },
     "execution_count": 50,
     "metadata": {},
     "output_type": "execute_result"
    }
   ],
   "source": [
    "last_data=np.reshape(last_data,(1,last_data.shape[0], 1))\n",
    "last_data.shape"
   ]
  },
  {
   "cell_type": "code",
   "execution_count": null,
   "metadata": {
    "colab": {
     "base_uri": "https://localhost:8080/",
     "height": 571
    },
    "id": "1mld81899JSQ",
    "outputId": "ce573755-728c-4cf6-82a5-6fd7a06a7a3f"
   },
   "outputs": [
    {
     "name": "stdout",
     "output_type": "stream",
     "text": [
      "1/1 [==============================] - 1s 621ms/step\n"
     ]
    }
   ],
   "source": [
    "x=model.predict(last_data)\n"
   ]
  },
  {
   "cell_type": "code",
   "execution_count": null,
   "metadata": {
    "id": "yNXSdJwa9KgS"
   },
   "outputs": [
    {
     "name": "stdout",
     "output_type": "stream",
     "text": [
      "[[0.7052948]]\n"
     ]
    }
   ],
   "source": [
    "print(x)"
   ]
  },
  {
   "cell_type": "code",
   "execution_count": null,
   "metadata": {},
   "outputs": [],
   "source": [
    "x=scaler.inverse_transform(x)"
   ]
  },
  {
   "cell_type": "code",
   "execution_count": null,
   "metadata": {},
   "outputs": [
    {
     "data": {
      "text/plain": [
       "array([[20083.082]], dtype=float32)"
      ]
     },
     "execution_count": 62,
     "metadata": {},
     "output_type": "execute_result"
    }
   ],
   "source": [
    "x"
   ]
  },
  {
   "cell_type": "code",
   "execution_count": null,
   "metadata": {},
   "outputs": [
    {
     "name": "stdout",
     "output_type": "stream",
     "text": [
      "The next hours prediction value is = 20083.082\n"
     ]
    }
   ],
   "source": [
    "print('The next hours prediction value is =',x[0][0])"
   ]
  },
  {
   "cell_type": "code",
   "execution_count": null,
   "metadata": {},
   "outputs": [],
   "source": []
  }
 ],
 "metadata": {
  "colab": {
   "provenance": []
  },
  "kernelspec": {
   "display_name": "Python 3.8.8 ('base')",
   "language": "python",
   "name": "python3"
  },
  "language_info": {
   "codemirror_mode": {
    "name": "ipython",
    "version": 3
   },
   "file_extension": ".py",
   "mimetype": "text/x-python",
   "name": "python",
   "nbconvert_exporter": "python",
   "pygments_lexer": "ipython3",
   "version": "3.8.8"
  },
  "vscode": {
   "interpreter": {
    "hash": "b683bd4b87c8b16609ac9a3ef3aab015b96a8503b853fa71d3fe1e7ebcd29d95"
   }
  }
 },
 "nbformat": 4,
 "nbformat_minor": 1
}
